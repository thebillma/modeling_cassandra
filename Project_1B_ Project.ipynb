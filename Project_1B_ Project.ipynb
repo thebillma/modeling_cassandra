{
 "cells": [
  {
   "cell_type": "markdown",
   "metadata": {
    "editable": true
   },
   "source": [
    "# Part I. ETL Pipeline for Pre-Processing the Files"
   ]
  },
  {
   "cell_type": "markdown",
   "metadata": {
    "editable": true
   },
   "source": [
    "## PLEASE RUN THE FOLLOWING CODE FOR PRE-PROCESSING THE FILES"
   ]
  },
  {
   "cell_type": "markdown",
   "metadata": {
    "editable": true
   },
   "source": [
    "#### Import Python packages "
   ]
  },
  {
   "cell_type": "code",
   "execution_count": 80,
   "metadata": {
    "editable": true
   },
   "outputs": [],
   "source": [
    "# Import Python packages \n",
    "import pandas as pd\n",
    "import cassandra\n",
    "import re\n",
    "import os\n",
    "import glob\n",
    "import numpy as np\n",
    "import json\n",
    "import csv"
   ]
  },
  {
   "cell_type": "markdown",
   "metadata": {
    "editable": true
   },
   "source": [
    "#### Creating list of filepaths to process original event csv data files"
   ]
  },
  {
   "cell_type": "code",
   "execution_count": 81,
   "metadata": {
    "editable": true
   },
   "outputs": [
    {
     "name": "stdout",
     "output_type": "stream",
     "text": [
      "/home/workspace\n"
     ]
    }
   ],
   "source": [
    "# checking your current working directory\n",
    "print(os.getcwd())\n",
    "\n",
    "# Get your current folder and subfolder event data\n",
    "filepath = os.getcwd() + '/event_data'\n",
    "\n",
    "# Create a for loop to create a list of files and collect each filepath\n",
    "for root, dirs, files in os.walk(filepath):\n",
    "    \n",
    "# join the file path and roots with the subdirectories using glob\n",
    "    file_path_list = glob.glob(os.path.join(root,'*'))\n",
    "    #print(file_path_list)"
   ]
  },
  {
   "cell_type": "markdown",
   "metadata": {
    "editable": true
   },
   "source": [
    "#### Processing the files to create the data file csv that will be used for Apache Casssandra tables"
   ]
  },
  {
   "cell_type": "code",
   "execution_count": 82,
   "metadata": {
    "editable": true
   },
   "outputs": [],
   "source": [
    "# initiating an empty list of rows that will be generated from each file\n",
    "full_data_rows_list = [] \n",
    "    \n",
    "# for every filepath in the file path list \n",
    "for f in file_path_list:\n",
    "\n",
    "# reading csv file \n",
    "    with open(f, 'r', encoding = 'utf8', newline='') as csvfile: \n",
    "        # creating a csv reader object \n",
    "        csvreader = csv.reader(csvfile) \n",
    "        next(csvreader)\n",
    "        \n",
    " # extracting each data row one by one and append it        \n",
    "        for line in csvreader:\n",
    "            #print(line)\n",
    "            full_data_rows_list.append(line) \n",
    "            \n",
    "# uncomment the code below if you would like to get total number of rows \n",
    "#print(len(full_data_rows_list))\n",
    "# uncomment the code below if you would like to check to see what the list of event data rows will look like\n",
    "#print(full_data_rows_list)\n",
    "\n",
    "# creating a smaller event data csv file called event_datafile_full csv that will be used to insert data into the \\\n",
    "# Apache Cassandra tables\n",
    "csv.register_dialect('myDialect', quoting=csv.QUOTE_ALL, skipinitialspace=True)\n",
    "\n",
    "with open('event_datafile_new.csv', 'w', encoding = 'utf8', newline='') as f:\n",
    "    writer = csv.writer(f, dialect='myDialect')\n",
    "    writer.writerow(['artist','firstName','gender','itemInSession','lastName','length',\\\n",
    "                'level','location','sessionId','song','userId'])\n",
    "    for row in full_data_rows_list:\n",
    "        if (row[0] == ''):\n",
    "            continue\n",
    "        writer.writerow((row[0], row[2], row[3], row[4], row[5], row[6], row[7], row[8], row[12], row[13], row[16]))\n"
   ]
  },
  {
   "cell_type": "code",
   "execution_count": 83,
   "metadata": {
    "editable": true
   },
   "outputs": [
    {
     "name": "stdout",
     "output_type": "stream",
     "text": [
      "6821\n"
     ]
    }
   ],
   "source": [
    "# check the number of rows in your csv file\n",
    "with open('event_datafile_new.csv', 'r', encoding = 'utf8') as f:\n",
    "    print(sum(1 for line in f))"
   ]
  },
  {
   "cell_type": "markdown",
   "metadata": {
    "editable": true
   },
   "source": [
    "# Part II. Complete the Apache Cassandra coding portion of your project. \n",
    "\n",
    "## Now you are ready to work with the CSV file titled <font color=red>event_datafile_new.csv</font>, located within the Workspace directory.  The event_datafile_new.csv contains the following columns: \n",
    "- artist \n",
    "- firstName of user\n",
    "- gender of user\n",
    "- item number in session\n",
    "- last name of user\n",
    "- length of the song\n",
    "- level (paid or free song)\n",
    "- location of the user\n",
    "- sessionId\n",
    "- song title\n",
    "- userId\n",
    "\n",
    "The image below is a screenshot of what the denormalized data should appear like in the <font color=red>**event_datafile_new.csv**</font> after the code above is run:<br>\n",
    "\n",
    "<img src=\"images/image_event_datafile_new.jpg\">"
   ]
  },
  {
   "cell_type": "markdown",
   "metadata": {
    "editable": true
   },
   "source": [
    "## Begin writing your Apache Cassandra code in the cells below"
   ]
  },
  {
   "cell_type": "markdown",
   "metadata": {
    "editable": true
   },
   "source": [
    "#### Creating a Cluster"
   ]
  },
  {
   "cell_type": "code",
   "execution_count": 84,
   "metadata": {
    "editable": true
   },
   "outputs": [],
   "source": [
    "# This should make a connection to a Cassandra instance your local machine \n",
    "# (127.0.0.1)\n",
    "# artist text,first_name text,gender text,item_in_session int,last_name text,length text,level text,location text,sessionid int,song text,userid int\n",
    "from cassandra.cluster import Cluster\n",
    "cluster = Cluster()\n",
    "\n",
    "# To establish connection and begin executing queries, need a session\n",
    "session = cluster.connect()"
   ]
  },
  {
   "cell_type": "markdown",
   "metadata": {
    "editable": true
   },
   "source": [
    "#### Create Keyspace"
   ]
  },
  {
   "cell_type": "code",
   "execution_count": 85,
   "metadata": {
    "editable": true
   },
   "outputs": [],
   "source": [
    "# Creating a Keyspace \n",
    "try:\n",
    "    session.execute(\"\"\"\n",
    "    \n",
    "    CREATE KEYSPACE IF NOT EXISTS project2\n",
    "    WITH REPLICATION = {\n",
    "    'class' : 'SimpleStrategy', 'replication_factor' : 1\n",
    "    }\n",
    "    \"\"\")\n",
    "except Exception as e:\n",
    "    print(e)"
   ]
  },
  {
   "cell_type": "markdown",
   "metadata": {
    "editable": true
   },
   "source": [
    "#### Set Keyspace"
   ]
  },
  {
   "cell_type": "code",
   "execution_count": 86,
   "metadata": {
    "editable": true
   },
   "outputs": [],
   "source": [
    "# Setting  KEYSPACE to the keyspace specified above\n",
    "try:\n",
    "    session.set_keyspace('project2')\n",
    "except Exception as e:\n",
    "    print(e)"
   ]
  },
  {
   "cell_type": "markdown",
   "metadata": {
    "editable": true
   },
   "source": [
    "### Now we need to create tables to run the following queries. Remember, with Apache Cassandra you model the database tables on the queries you want to run."
   ]
  },
  {
   "cell_type": "markdown",
   "metadata": {
    "editable": true
   },
   "source": [
    "## Create queries to ask the following three questions of the data\n",
    "\n",
    "### 1. Give me the artist, song title and song's length in the music app history that was heard during  sessionId = 338, and itemInSession  = 4\n",
    "\n",
    "Here is a sample of data:\n",
    "\n",
    "<img src=\"images/Query1.PNG\">"
   ]
  },
  {
   "cell_type": "markdown",
   "metadata": {
    "editable": true
   },
   "source": [
    "#### We are looking for artists songs were listined during a specific session Id and itemInsession. Looking at the table above, we see that for a given seesion, the itemInSession is unique. Therefore, the combination of both is a good candidate for the Primary key.\n",
    " \n",
    "**Here are all the columns necessary for this query:**\n",
    "\n",
    "`Table Name: music_library_by_artists\n",
    "column 1: Artist Name\n",
    "column 2: Song title\n",
    "column 3: Song's length\n",
    "Column 4: SessionID\n",
    "Colum  5: itemInSession\n",
    "PRIMARY KEY(SessionID, itemInSession)`\n",
    "\n",
    "The columns output by the query are:\n",
    "\n",
    "`\n",
    "column 1: Artist Name\n",
    "column 2: Song title\n",
    "column 3: Song's length\n",
    "`"
   ]
  },
  {
   "cell_type": "code",
   "execution_count": 87,
   "metadata": {
    "editable": true
   },
   "outputs": [],
   "source": [
    "## 1:  Give me the artist, song title and song's length in the music app history that was heard during  sessionId = 338, and itemInSession = 4\n",
    "\n",
    "#Drop table if it exists\n",
    "query = 'DROP TABLE IF EXISTS music_library_by_artists'\n",
    "try:\n",
    "    session.execute(query)\n",
    "except Exception as e:\n",
    "    print(e)\n",
    "\n",
    "# Creating the table\n",
    "query = 'CREATE TABLE IF NOT EXISTS music_library_by_artists'\n",
    "query = query + '(artist text,item_in_sessionid int,length float,sessionid int,song text,PRIMARY KEY(sessionid,item_in_sessionid))'\n",
    "\n",
    "try:\n",
    "    session.execute(query)\n",
    "except Exception as e:\n",
    "    print(e)         \n"
   ]
  },
  {
   "cell_type": "code",
   "execution_count": 88,
   "metadata": {
    "editable": true
   },
   "outputs": [],
   "source": [
    "# Inserting data in the table artist_song\n",
    "file = 'event_datafile_new.csv'\n",
    "\n",
    "with open(file, encoding = 'utf8') as f:\n",
    "    csvreader = csv.reader(f)\n",
    "    next(csvreader) # skip header\n",
    "    for line in csvreader:\n",
    "        ##  Assign the INSERT statements into the `query` variable\n",
    "        query = \"INSERT INTO music_library_by_artists(artist,item_in_sessionid,length,sessionid,song)\"\n",
    "        query = query + \" VALUES(%s,%s,%s,%s,%s)\"\n",
    "        session.execute(query, (line[0],int(line[3]),float(line[5]),int(line[8]),line[9]))"
   ]
  },
  {
   "cell_type": "code",
   "execution_count": 89,
   "metadata": {
    "editable": true
   },
   "outputs": [
    {
     "name": "stdout",
     "output_type": "stream",
     "text": [
      " Faithless,Music Matters (Mark Knight Dub),495.30731201171875\n"
     ]
    }
   ],
   "source": [
    "## Adding in the SELECT statement to verify the data was entered into the table\n",
    "## query = Give me the artist, song title and song's length in the music app history that was heard during sessionId = 338 and itemInSession = 4   \n",
    "query=\"SELECT artist,song,length FROM music_library_by_artists WHERE sessionid = 338 and item_in_sessionid = 4\"\n",
    "try:\n",
    "    rows = session.execute(query)\n",
    "except Exception as e:\n",
    "    print(e)\n",
    "\n",
    "for row in rows:\n",
    "    print(f' {row.artist},{row.song},{row.length}')"
   ]
  },
  {
   "cell_type": "markdown",
   "metadata": {
    "editable": true
   },
   "source": [
    "### 2. Give me only the following: name of artist, song (sorted by itemInSession) and user (first and last name) for userid = 10, sessionid = 182\n",
    "\n",
    "Here is a sample of data:\n",
    "\n",
    "<img src=\"images/Query2.PNG\">\n",
    "\n",
    "\n",
    "#### For each session for the same user, we have mutliple itemInSession. We see that the combination of the 3 columns uniquely identifies a row of our data. Therefore, we will use (User ID, Session ID) as our Primary Key, then add , itemInSession ID as clustering column to enforce the unicity of the row.\n",
    "\n",
    "  **Here are the columns necessary for this query:**\n",
    "  \n",
    "`Table Name: music_library_by_artists_songs_users\n",
    "column 1: Artist Name\n",
    "column 2: Song title\n",
    "column 3: User First Name\n",
    "Column 4: User Last Name\n",
    "Column 5: User ID\n",
    "Column 6: Session ID\n",
    "Column 7: itemInSession ID\n",
    "PRIMARY KEY(User ID, Session ID, itemInSession ID)`\n",
    "\n",
    "\n",
    "The columns output by the query are:\n",
    "\n",
    "`\n",
    "column 1: Artist Name\n",
    "column 2: Song title\n",
    "column 3: User First Name\n",
    "column 3: User Last Name\n",
    "`"
   ]
  },
  {
   "cell_type": "code",
   "execution_count": 90,
   "metadata": {
    "editable": true
   },
   "outputs": [],
   "source": [
    "#Creating the table music_library_by_artists_songs_users\n",
    "\n",
    "query = 'DROP TABLE IF EXISTS music_library_by_artists_songs_users'\n",
    "try:\n",
    "    session.execute(query)\n",
    "except Exception as e:\n",
    "    print(e)\n",
    "    \n",
    "query = 'CREATE TABLE IF NOT EXISTS music_library_by_artists_songs_users'\n",
    "query = query + '(artist text,first_name text,item_in_sessionid int,last_name text,sessionid int,song text,userid int,PRIMARY KEY(userid,sessionid,item_in_sessionid))'\n",
    "\n",
    "try:\n",
    "    session.execute(query)\n",
    "except Exception as e:\n",
    "    print(e)     \n",
    "    "
   ]
  },
  {
   "cell_type": "code",
   "execution_count": 91,
   "metadata": {
    "editable": true
   },
   "outputs": [],
   "source": [
    "# Insert data in  the table\n",
    "with open(file, encoding = 'utf8') as f:\n",
    "    csvreader = csv.reader(f)\n",
    "    next(csvreader) # skip header\n",
    "    for line in csvreader:\n",
    "        ## TO-DO: Assign the INSERT statements into the `query` variable\n",
    "        query = \"INSERT INTO music_library_by_artists_songs_users(artist,first_name,item_in_sessionid,last_name,sessionid,song,userid)\"\n",
    "        query = query + \" VALUES(%s,%s,%s,%s,%s,%s,%s)\"\n",
    "        #print(line)\n",
    "        ## Assign which column element should be assigned for each column in the INSERT statement.\n",
    "        session.execute(query, (line[0],line[1],int(line[3]),line[4],int(line[8]),line[9],int(line[10])))"
   ]
  },
  {
   "cell_type": "code",
   "execution_count": 92,
   "metadata": {
    "editable": true,
    "scrolled": true
   },
   "outputs": [
    {
     "name": "stdout",
     "output_type": "stream",
     "text": [
      "Down To The Bone,Keep On Keepin' On,Sylvie,Cruz\n",
      "Three Drives,Greece 2000,Sylvie,Cruz\n",
      "Sebastien Tellier,Kilometer,Sylvie,Cruz\n",
      "Lonnie Gordon,Catch You Baby (Steve Pitron & Max Sanna Radio Edit),Sylvie,Cruz\n"
     ]
    }
   ],
   "source": [
    "# executing the query\n",
    "## Query 2: Give me only the following: name of artist, song (sorted by itemInSession) and user (first and last name) for userid = 10, sessionid = 182\n",
    "\n",
    "query=\"SELECT artist,song,first_name,last_name FROM music_library_by_artists_songs_users WHERE userid = 10 and sessionid = 182 ;\"\n",
    "try:\n",
    "    rows = session.execute(query)\n",
    "except Exception as e:\n",
    "    print(e)\n",
    "            \n",
    "for row in rows:\n",
    "    print(f'{row.artist},{row.song},{row.first_name},{row.last_name}')"
   ]
  },
  {
   "cell_type": "markdown",
   "metadata": {
    "editable": true
   },
   "source": [
    "### 3. Give me every user name (first and last) in my music app history who listened to the song 'All Hands Against His Own'\n",
    "\n",
    "Here is a sample of data:\n",
    "\n",
    "<img src=\"images/Query3.PNG\">\n",
    "\n",
    "#### Here we want to query users who have listened to a specific song. We will first add **song title** as our primary key. Since we want to output each user that listened to that song, we can add **User ID** as clustering column to make sure the row is unique\n",
    "\n",
    "**Here are the columns necessary for this query:**\n",
    "  \n",
    "`Table Name: users_history_by_songs\n",
    "column 1:  User First Name\n",
    "column 2: Song title\n",
    "column 3: : User ID\n",
    "Column 4: User Last Name\n",
    "PRIMARY KEY(song,User ID)`\n",
    "\n",
    "The columns output by the query are:\n",
    "\n",
    "`\n",
    "column 1: User First Name\n",
    "column 2: User Last Name\n",
    "`\n",
    "\n"
   ]
  },
  {
   "cell_type": "code",
   "execution_count": 93,
   "metadata": {
    "editable": true
   },
   "outputs": [],
   "source": [
    "# Table creation\n",
    "\n",
    "query = 'DROP TABLE IF EXISTS users_history_by_songs'\n",
    "try:\n",
    "    session.execute(query)\n",
    "except Exception as e:\n",
    "    print(e)\n",
    "    \n",
    "query = 'CREATE TABLE IF NOT EXISTS users_history_by_songs'\n",
    "query = query + '(first_name text,last_name text,song text,userid int, PRIMARY KEY(song,userid))'\n",
    "\n",
    "try:\n",
    "    session.execute(query)\n",
    "except Exception as e:\n",
    "    print(e)     "
   ]
  },
  {
   "cell_type": "code",
   "execution_count": 94,
   "metadata": {
    "editable": true
   },
   "outputs": [],
   "source": [
    "#Insert data in the data\n",
    "with open(file, encoding = 'utf8') as f:\n",
    "    csvreader = csv.reader(f)\n",
    "    next(csvreader) # skip header\n",
    "    for line in csvreader:\n",
    "        ## Assign the INSERT statements into the `query` variable\n",
    "        query = \"INSERT INTO users_history_by_songs(first_name,last_name,song,userid)\"\n",
    "        query = query + \" VALUES(%s,%s,%s,%s)\"\n",
    "        ## Assign which column element should be assigned for each column in the INSERT statement.\n",
    "        session.execute(query, (line[1],line[4],line[9],int(line[10])))  \n"
   ]
  },
  {
   "cell_type": "code",
   "execution_count": 95,
   "metadata": {
    "editable": true
   },
   "outputs": [
    {
     "name": "stdout",
     "output_type": "stream",
     "text": [
      "Jacqueline Lynch\n",
      "Tegan Levine\n",
      "Sara Johnson\n"
     ]
    }
   ],
   "source": [
    "## Query 3: Give me every user name (first and last) in my music app history who listened to the song 'All Hands Against His Own'\n",
    "\n",
    "query=\"SELECT first_name,last_name FROM users_history_by_songs WHERE song='All Hands Against His Own'; \"\n",
    "try:\n",
    "    rows = session.execute(query)\n",
    "except Exception as e:\n",
    "    print(e)\n",
    "            \n",
    "for row in rows:\n",
    "    print(row.first_name,row.last_name)\n",
    "                    "
   ]
  },
  {
   "cell_type": "markdown",
   "metadata": {
    "editable": true
   },
   "source": [
    "### Drop the tables before closing out the sessions"
   ]
  },
  {
   "cell_type": "code",
   "execution_count": 96,
   "metadata": {
    "editable": true
   },
   "outputs": [],
   "source": [
    "## Drop the table before closing out the sessions\n",
    "query1 = 'DROP TABLE IF EXISTS artist_song'\n",
    "query2 = 'DROP TABLE IF EXISTS artist_name'\n",
    "query3 = 'DROP TABLE IF EXISTS user_history'\n",
    "queries =[query1,query2,query3]\n",
    "try:\n",
    "    for query in queries:\n",
    "        session.execute(query)\n",
    "except Exception as e:\n",
    "    print(e)"
   ]
  },
  {
   "cell_type": "markdown",
   "metadata": {
    "editable": true
   },
   "source": [
    "### Close the session and cluster connection¶"
   ]
  },
  {
   "cell_type": "code",
   "execution_count": 97,
   "metadata": {
    "editable": true
   },
   "outputs": [],
   "source": [
    "session.shutdown()\n",
    "cluster.shutdown()"
   ]
  }
 ],
 "metadata": {
  "kernelspec": {
   "display_name": "Python 3",
   "language": "python",
   "name": "python3"
  },
  "language_info": {
   "codemirror_mode": {
    "name": "ipython",
    "version": 3
   },
   "file_extension": ".py",
   "mimetype": "text/x-python",
   "name": "python",
   "nbconvert_exporter": "python",
   "pygments_lexer": "ipython3",
   "version": "3.6.3"
  }
 },
 "nbformat": 4,
 "nbformat_minor": 4
}
